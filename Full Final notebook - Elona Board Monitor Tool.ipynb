{
 "cells": [
  {
   "cell_type": "markdown",
   "id": "331419ca",
   "metadata": {},
   "source": [
    "<center><h1> FULL CODE BOARD MONITOR TOOL </center></h1> "
   ]
  },
  {
   "cell_type": "code",
   "execution_count": 7,
   "id": "1836ebf5",
   "metadata": {},
   "outputs": [],
   "source": [
    "from selenium import webdriver\n",
    "from webdriver_manager.chrome import ChromeDriverManager\n",
    "from selenium.webdriver.support.ui import WebDriverWait as wait\n",
    "import pandas as pd\n",
    "import csv\n",
    "from datetime import datetime, timedelta"
   ]
  },
  {
   "cell_type": "markdown",
   "id": "ad0b0ee4",
   "metadata": {},
   "source": [
    "## I- Getting the initial database"
   ]
  },
  {
   "cell_type": "markdown",
   "id": "3428de6b",
   "metadata": {},
   "source": [
    "### A- Getting all links iterating through pages"
   ]
  },
  {
   "cell_type": "code",
   "execution_count": null,
   "id": "4d5545ee",
   "metadata": {},
   "outputs": [],
   "source": [
    "last_page_number = 514\n",
    "\n",
    "def get_links():\n",
    "    url = 'https://www.ge.ch/recherche-entreprises-dans-registre-du-commerce-geneve'\n",
    "    ## GETTING THE FIRST PAGE\n",
    "    driver = webdriver.Chrome(ChromeDriverManager().install())    \n",
    "    driver.get(url)\n",
    "    driver.switch_to.frame(driver.find_element_by_name('mainFrame'));\n",
    "\n",
    "\n",
    "    ## MOVING TO THE SECOND PAGE\n",
    "    button = driver.find_element_by_id(\"companySearch_display\")\n",
    "    if button:\n",
    "            button.click()\n",
    "            WebDriverWait(driver, 3)\n",
    "\n",
    "\n",
    "\n",
    "    ## ITERATING THROUGH ALL RESPONSE PAGES TO GET HREFs       \n",
    "    more_pages = True\n",
    "    a = []\n",
    "    p = 0\n",
    "\n",
    "    while more_pages == True:\n",
    "        table = driver.find_element_by_class_name(\"result\")\n",
    "\n",
    "        i = 0\n",
    "        for row in table.find_elements_by_css_selector('tr'):\n",
    "            for cell in row.find_elements_by_css_selector('td'):\n",
    "                try:\n",
    "                    content = cell.find_element_by_css_selector(\"a[href*='companyReport']\")\n",
    "                    link = content.get_attribute('href')\n",
    "                    a.append(link)\n",
    "                    print(link)\n",
    "                    print('all good at row ', i, ' page ', p )\n",
    "                    i+=1\n",
    "\n",
    "                except Exception as e:\n",
    "                    i+=1\n",
    "                    continue\n",
    "        p += 1\n",
    "\n",
    "        suivant = driver.find_elements_by_xpath(\"//*[contains(text(), 'Suivant')]\")\n",
    "        if p < last_page_number:\n",
    "                more_pages = True\n",
    "                suivant[0].click()\n",
    "        else:\n",
    "            more_pages = False\n",
    "\n",
    "    return a\n",
    "\n",
    "links = a[:51424]\n",
    "        "
   ]
  },
  {
   "cell_type": "markdown",
   "id": "cbd9c877",
   "metadata": {},
   "source": [
    "### B- Getting all board members names"
   ]
  },
  {
   "cell_type": "code",
   "execution_count": null,
   "id": "b2f10a9c",
   "metadata": {},
   "outputs": [],
   "source": [
    "def companies_and_boards(links):\n",
    "    driver = webdriver.Chrome(ChromeDriverManager().install())     \n",
    "    n = 0\n",
    "    dictionnary = {}\n",
    "    name = 0\n",
    "\n",
    "    for link in links:\n",
    "        driver.get(link)\n",
    "\n",
    "        values = []\n",
    "        keys = []\n",
    "        try:\n",
    "            table_of_interest = driver.find_element_by_xpath(\"//*[contains(text(), 'Raison')]\")\n",
    "            parent_table = table_of_interest.find_element_by_xpath('..')\n",
    "            parent_table2 = parent_table.find_element_by_xpath('..')\n",
    "            check = parent_table2.find_elements_by_css_selector(\"td[style='text-decoration: none;']\");\n",
    "            name = check[0].text\n",
    "\n",
    "            print('got name', name)\n",
    "\n",
    "        except Exception as e:\n",
    "            pass\n",
    "\n",
    "\n",
    "        try:\n",
    "            table_of_interest = driver.find_element_by_xpath(\"//*[contains(text(), 'Nom')]\")\n",
    "            parent_table = table_of_interest.find_element_by_xpath('..')\n",
    "            parent_table2 = parent_table.find_element_by_xpath('..')\n",
    "            check = parent_table2.find_elements_by_css_selector(\"td[style='text-decoration: none;']\");\n",
    "            name_company = check[0].text\n",
    "\n",
    "\n",
    "        except Exception as e:\n",
    "            name_company = 'unavailable'\n",
    "            pass\n",
    "\n",
    "\n",
    "\n",
    "        try:\n",
    "            table_of_interest = driver.find_element_by_xpath(\"//*[contains(text(), 'qualité pour signer')]\")\n",
    "            parent_table = table_of_interest.find_element_by_xpath('..')\n",
    "            parent_table2 = parent_table.find_element_by_xpath('..')\n",
    "\n",
    "            for colname in parent_table2.find_elements_by_css_selector('th'):\n",
    "                keys.append(colname.text)\n",
    "\n",
    "            for row in parent_table2.find_elements_by_css_selector('tr'):\n",
    "                for d in row.find_elements_by_css_selector('td'):\n",
    "                    values.append(d.text)\n",
    "\n",
    "            keys= keys[1:]\n",
    "            values.append(name_company)\n",
    "            print('got board members for company ', name)\n",
    "\n",
    "\n",
    "            i = 0\n",
    "            m = 0\n",
    "\n",
    "            dictionnary['header'] = keys\n",
    "            while i < len(keys):\n",
    "                key = keys[i]\n",
    "                up_to = m+len(keys)\n",
    "                data = values[m:int(up_to)]\n",
    "                if data :\n",
    "                    dictionnary[str(name)] = data\n",
    "                m += 3\n",
    "                i += 1\n",
    "                name +=1\n",
    "\n",
    "            n +=1\n",
    "\n",
    "\n",
    "        except Exception as e:\n",
    "            continue\n",
    "            n+=1\n",
    "            name +=1\n",
    "            \n",
    "    return dictionnary"
   ]
  },
  {
   "cell_type": "code",
   "execution_count": null,
   "id": "82e43ddb",
   "metadata": {},
   "outputs": [],
   "source": [
    "results = companies_and_boards(links)\n",
    "df = pd.DataFrame.from_records(result)\n",
    "df"
   ]
  },
  {
   "cell_type": "markdown",
   "id": "9c39f4d3",
   "metadata": {},
   "source": [
    "## II- Getting updates each week"
   ]
  },
  {
   "cell_type": "code",
   "execution_count": 1,
   "id": "b6cf0d40",
   "metadata": {},
   "outputs": [
    {
     "ename": "NameError",
     "evalue": "name 'datetime' is not defined",
     "output_type": "error",
     "traceback": [
      "\u001b[0;31m---------------------------------------------------------------------------\u001b[0m",
      "\u001b[0;31mNameError\u001b[0m                                 Traceback (most recent call last)",
      "\u001b[0;32m/var/folders/vn/d12r03rj2tq6sp8nd5k9209h0000gn/T/ipykernel_3918/3062212006.py\u001b[0m in \u001b[0;36m<module>\u001b[0;34m\u001b[0m\n\u001b[0;32m----> 1\u001b[0;31m \u001b[0myesterday\u001b[0m \u001b[0;34m=\u001b[0m \u001b[0mdatetime\u001b[0m\u001b[0;34m.\u001b[0m\u001b[0mnow\u001b[0m\u001b[0;34m(\u001b[0m\u001b[0;34m)\u001b[0m \u001b[0;34m-\u001b[0m \u001b[0mtimedelta\u001b[0m\u001b[0;34m(\u001b[0m\u001b[0;36m7\u001b[0m\u001b[0;34m)\u001b[0m\u001b[0;34m\u001b[0m\u001b[0;34m\u001b[0m\u001b[0m\n\u001b[0m\u001b[1;32m      2\u001b[0m \u001b[0myesterday\u001b[0m \u001b[0;34m=\u001b[0m \u001b[0mdatetime\u001b[0m\u001b[0;34m.\u001b[0m\u001b[0mstrftime\u001b[0m\u001b[0;34m(\u001b[0m\u001b[0myesterday\u001b[0m\u001b[0;34m,\u001b[0m \u001b[0;34m'%d.%m.%Y'\u001b[0m\u001b[0;34m)\u001b[0m\u001b[0;34m\u001b[0m\u001b[0;34m\u001b[0m\u001b[0m\n\u001b[1;32m      3\u001b[0m \u001b[0myesterday\u001b[0m\u001b[0;34m\u001b[0m\u001b[0;34m\u001b[0m\u001b[0m\n",
      "\u001b[0;31mNameError\u001b[0m: name 'datetime' is not defined"
     ]
    }
   ],
   "source": [
    "def get_update():\n",
    "    url = 'https://www.ge.ch/recherche-entreprises-dans-registre-du-commerce-geneve'\n",
    "    driver = webdriver.Chrome(ChromeDriverManager().install())    \n",
    "    driver.get(url)\n",
    "    driver.switch_to.frame(driver.find_element_by_name('mainFrame'));\n",
    "    advanced_search = driver.find_element_by_xpath(\"//*[contains(text(),'+ Critères avancés de recherche')]\")\n",
    "    advanced_search.click()\n",
    "\n",
    "    from selenium.webdriver.support.ui import WebDriverWait\n",
    "\n",
    "    last_week = datetime.now() - timedelta(7)\n",
    "    last_week = datetime.strftime(last_week, '%d.%m.%Y')\n",
    "    last_week\n",
    "    driver.find_element_by_name(\"originDateBegin\").send_keys(str(last_week))\n",
    "    WebDriverWait(driver, 3)\n",
    "    search = driver.find_element_by_id(\"companySearch_display\")\n",
    "    driver.execute_script(\"arguments[0].click();\", search)\n",
    "    \n",
    "    ## ITERATING THROUGH ALL RESPONSE PAGES TO GET HREFs       \n",
    "    more_pages = True\n",
    "    a = []\n",
    "    p = 0\n",
    "\n",
    "    while more_pages == True:\n",
    "        table = driver.find_element_by_class_name(\"result\")\n",
    "\n",
    "        i = 0\n",
    "        for row in table.find_elements_by_css_selector('tr'):\n",
    "            for cell in row.find_elements_by_css_selector('td'):\n",
    "                try:\n",
    "                    content = cell.find_element_by_css_selector(\"a[href*='companyReport']\")\n",
    "                    link = content.get_attribute('href')\n",
    "                    a.append(link)\n",
    "                    print(link)\n",
    "                    print('all good at row ', i, ' page ', p )\n",
    "                    i+=1\n",
    "\n",
    "                except Exception as e:\n",
    "                    i+=1\n",
    "                    continue\n",
    "        p += 1\n",
    "\n",
    "        suivant = driver.find_elements_by_xpath(\"//*[contains(text(), 'Suivant')]\")\n",
    "        if p < last_page_number:\n",
    "                more_pages = True\n",
    "                suivant[0].click()\n",
    "        else:\n",
    "            more_pages = False\n",
    "\n",
    "    links = a\n",
    "    companies_and_boards(links)\n",
    "    \n",
    "    return dictionnary\n",
    "\n",
    "results = get_update()\n",
    "df = pd.DataFrame.from_records(result)\n",
    "df"
   ]
  },
  {
   "cell_type": "markdown",
   "id": "41ac8ee5",
   "metadata": {},
   "source": [
    "## III - Data cleaning and wrangling"
   ]
  },
  {
   "cell_type": "code",
   "execution_count": 37,
   "id": "a4157e9f",
   "metadata": {},
   "outputs": [],
   "source": [
    "df = pd.read_excel('second_person_company_df.xlsx')"
   ]
  },
  {
   "cell_type": "code",
   "execution_count": 39,
   "id": "37217715",
   "metadata": {
    "scrolled": true
   },
   "outputs": [
    {
     "name": "stderr",
     "output_type": "stream",
     "text": [
      "/var/folders/vn/d12r03rj2tq6sp8nd5k9209h0000gn/T/ipykernel_3918/717626587.py:19: SettingWithCopyWarning: \n",
      "A value is trying to be set on a copy of a slice from a DataFrame.\n",
      "Try using .loc[row_indexer,col_indexer] = value instead\n",
      "\n",
      "See the caveats in the documentation: https://pandas.pydata.org/pandas-docs/stable/user_guide/indexing.html#returning-a-view-versus-a-copy\n",
      "  df['Name and Surname'] = df['Name and Surname'].astype(str)\n",
      "/var/folders/vn/d12r03rj2tq6sp8nd5k9209h0000gn/T/ipykernel_3918/717626587.py:20: SettingWithCopyWarning: \n",
      "A value is trying to be set on a copy of a slice from a DataFrame\n",
      "\n",
      "See the caveats in the documentation: https://pandas.pydata.org/pandas-docs/stable/user_guide/indexing.html#returning-a-view-versus-a-copy\n",
      "  df['Name and Surname'].mask((df['Name and Surname'].str.contains(\"CHE-\")),(df['Name and Surname'].str[:-18]), inplace=True)\n",
      "/var/folders/vn/d12r03rj2tq6sp8nd5k9209h0000gn/T/ipykernel_3918/717626587.py:21: SettingWithCopyWarning: \n",
      "A value is trying to be set on a copy of a slice from a DataFrame\n",
      "\n",
      "See the caveats in the documentation: https://pandas.pydata.org/pandas-docs/stable/user_guide/indexing.html#returning-a-view-versus-a-copy\n",
      "  df['Name and Surname'].mask((df['Name and Surname'].str.contains(\"CH-\")),(df['Name and Surname'].str[:-19]), inplace=True)\n"
     ]
    }
   ],
   "source": [
    "df2 = df.set_axis(['Index', 'Name', 'Status', 'Signature mode', 'Company'], axis=1, inplace=False)\n",
    "\n",
    "try:\n",
    "    df2 = df.set_axis(['Index','Name', 'Status', 'Signature mode', 'Company'], axis=1, inplace=False)\n",
    "except:\n",
    "    df2 = df.set_axis(['Index','Name', 'Status', 'Signature mode', 'Company'], axis=1, inplace=False)\n",
    "\n",
    "df3 = df2[\"Name\"].str.split(',', expand=True)\n",
    "try:\n",
    "    df3 = df3.set_axis(['Name and Surname', 'Origin', 'To', 'For 1', 'For 2', 'For 3' ], axis=1, inplace=False)\n",
    "except:\n",
    "    df3 = df3.set_axis(['Name and Surname', 'Origin', 'To', 'For 1', 'For 2' ], axis=1, inplace=False)\n",
    "\n",
    "result = pd.concat([df3, df2], axis=1)\n",
    "result_epurated = result[['Name and Surname', 'Origin', 'To','Status', 'Signature mode','Company']]\n",
    "\n",
    "\n",
    "df = result_epurated.drop_duplicates()\n",
    "\n",
    "## Remove code\n",
    "df['Name and Surname'] = df['Name and Surname'].astype(str)\n",
    "df['Name and Surname'].mask((df['Name and Surname'].str.contains(\"CHE-\")),(df['Name and Surname'].str[:-18]), inplace=True)\n",
    "df['Name and Surname'].mask((df['Name and Surname'].str.contains(\"CH-\")),(df['Name and Surname'].str[:-19]), inplace=True)\n",
    "\n",
    "df = df[df['Name and Surname'] != '* du conseil']\n",
    "df = df[df['Name and Surname'] != '* du conseil de fondation']\n",
    "df = df[df['Name and Surname'] != '* du comité']\n",
    "df = df[df['Name and Surname'] != '*du comité']\n",
    "df = df[df['Name and Surname'] != '* du comité']\n",
    "df = df[df['Name and Surname'] != '*du conseil de fondation']\n"
   ]
  },
  {
   "cell_type": "markdown",
   "id": "48d1e260",
   "metadata": {},
   "source": [
    "#### Wrangling to allow for network analysis"
   ]
  },
  {
   "cell_type": "code",
   "execution_count": 43,
   "id": "a1dc4454",
   "metadata": {},
   "outputs": [
    {
     "data": {
      "text/html": [
       "<div>\n",
       "<style scoped>\n",
       "    .dataframe tbody tr th:only-of-type {\n",
       "        vertical-align: middle;\n",
       "    }\n",
       "\n",
       "    .dataframe tbody tr th {\n",
       "        vertical-align: top;\n",
       "    }\n",
       "\n",
       "    .dataframe thead th {\n",
       "        text-align: right;\n",
       "    }\n",
       "</style>\n",
       "<table border=\"1\" class=\"dataframe\">\n",
       "  <thead>\n",
       "    <tr style=\"text-align: right;\">\n",
       "      <th></th>\n",
       "      <th>Name and Surname</th>\n",
       "      <th>Company</th>\n",
       "      <th>Weight_Person</th>\n",
       "      <th>Weight_Company</th>\n",
       "    </tr>\n",
       "  </thead>\n",
       "  <tbody>\n",
       "    <tr>\n",
       "      <th>0</th>\n",
       "      <td>Dudouit Elkaïm Rachel</td>\n",
       "      <td>CMP Cercle Menus Plaisirs Sàrl</td>\n",
       "      <td>1</td>\n",
       "      <td>2.0</td>\n",
       "    </tr>\n",
       "    <tr>\n",
       "      <th>1</th>\n",
       "      <td>Herr-Dudouit Sephora</td>\n",
       "      <td>CMP Cercle Menus Plaisirs Sàrl</td>\n",
       "      <td>1</td>\n",
       "      <td>2.0</td>\n",
       "    </tr>\n",
       "    <tr>\n",
       "      <th>2</th>\n",
       "      <td>Eretzian Jean-Philippe</td>\n",
       "      <td>CHAUFFAGE CONCEPT Sàrl</td>\n",
       "      <td>1</td>\n",
       "      <td>3.0</td>\n",
       "    </tr>\n",
       "    <tr>\n",
       "      <th>3</th>\n",
       "      <td>Büchi Thomas</td>\n",
       "      <td>CHAUFFAGE CONCEPT Sàrl</td>\n",
       "      <td>1</td>\n",
       "      <td>3.0</td>\n",
       "    </tr>\n",
       "    <tr>\n",
       "      <th>4</th>\n",
       "      <td>Experaudit SA</td>\n",
       "      <td>CHAUFFAGE CONCEPT Sàrl</td>\n",
       "      <td>10</td>\n",
       "      <td>3.0</td>\n",
       "    </tr>\n",
       "    <tr>\n",
       "      <th>...</th>\n",
       "      <td>...</td>\n",
       "      <td>...</td>\n",
       "      <td>...</td>\n",
       "      <td>...</td>\n",
       "    </tr>\n",
       "    <tr>\n",
       "      <th>22349</th>\n",
       "      <td>Da Soledade Mendes Irène da Conceiçao</td>\n",
       "      <td>Echaloc SA</td>\n",
       "      <td>1</td>\n",
       "      <td>4.0</td>\n",
       "    </tr>\n",
       "    <tr>\n",
       "      <th>22350</th>\n",
       "      <td>Dembinsky Pawel</td>\n",
       "      <td>Association Internationale Pour l'Enseignement...</td>\n",
       "      <td>1</td>\n",
       "      <td>4.0</td>\n",
       "    </tr>\n",
       "    <tr>\n",
       "      <th>22351</th>\n",
       "      <td>Buttet Nicolas</td>\n",
       "      <td>Association Internationale Pour l'Enseignement...</td>\n",
       "      <td>1</td>\n",
       "      <td>4.0</td>\n",
       "    </tr>\n",
       "    <tr>\n",
       "      <th>22352</th>\n",
       "      <td>Loze Bertrand</td>\n",
       "      <td>Association Internationale Pour l'Enseignement...</td>\n",
       "      <td>1</td>\n",
       "      <td>4.0</td>\n",
       "    </tr>\n",
       "    <tr>\n",
       "      <th>22353</th>\n",
       "      <td>Ortelli Pascal</td>\n",
       "      <td>Association Internationale Pour l'Enseignement...</td>\n",
       "      <td>1</td>\n",
       "      <td>4.0</td>\n",
       "    </tr>\n",
       "  </tbody>\n",
       "</table>\n",
       "<p>14749 rows × 4 columns</p>\n",
       "</div>"
      ],
      "text/plain": [
       "                            Name and Surname  \\\n",
       "0                      Dudouit Elkaïm Rachel   \n",
       "1                       Herr-Dudouit Sephora   \n",
       "2                     Eretzian Jean-Philippe   \n",
       "3                               Büchi Thomas   \n",
       "4                              Experaudit SA   \n",
       "...                                      ...   \n",
       "22349  Da Soledade Mendes Irène da Conceiçao   \n",
       "22350                        Dembinsky Pawel   \n",
       "22351                         Buttet Nicolas   \n",
       "22352                          Loze Bertrand   \n",
       "22353                         Ortelli Pascal   \n",
       "\n",
       "                                                 Company  Weight_Person  \\\n",
       "0                         CMP Cercle Menus Plaisirs Sàrl              1   \n",
       "1                         CMP Cercle Menus Plaisirs Sàrl              1   \n",
       "2                                 CHAUFFAGE CONCEPT Sàrl              1   \n",
       "3                                 CHAUFFAGE CONCEPT Sàrl              1   \n",
       "4                                 CHAUFFAGE CONCEPT Sàrl             10   \n",
       "...                                                  ...            ...   \n",
       "22349                                         Echaloc SA              1   \n",
       "22350  Association Internationale Pour l'Enseignement...              1   \n",
       "22351  Association Internationale Pour l'Enseignement...              1   \n",
       "22352  Association Internationale Pour l'Enseignement...              1   \n",
       "22353  Association Internationale Pour l'Enseignement...              1   \n",
       "\n",
       "       Weight_Company  \n",
       "0                 2.0  \n",
       "1                 2.0  \n",
       "2                 3.0  \n",
       "3                 3.0  \n",
       "4                 3.0  \n",
       "...               ...  \n",
       "22349             4.0  \n",
       "22350             4.0  \n",
       "22351             4.0  \n",
       "22352             4.0  \n",
       "22353             4.0  \n",
       "\n",
       "[14749 rows x 4 columns]"
      ]
     },
     "execution_count": 43,
     "metadata": {},
     "output_type": "execute_result"
    }
   ],
   "source": [
    "# Add number of occurence\n",
    "df['Weight_Person'] = df.groupby('Name and Surname')['Name and Surname'].transform('size')\n",
    "df['Weight_Company'] = df.groupby('Company')['Company'].transform('size')\n",
    "\n",
    "## Keep relevant columns & remove duplicates\n",
    "df = df[['Name and Surname','Company','Weight_Person','Weight_Company']]\n",
    "df =df.drop_duplicates()"
   ]
  },
  {
   "cell_type": "code",
   "execution_count": null,
   "id": "63e78401",
   "metadata": {},
   "outputs": [],
   "source": [
    "def get_data_js(df_graph):\n",
    "    df_graph = df_graph[['Name and Surname', 'company_name']]\n",
    "    df_graph.columns = ['source','target']\n",
    "    grouped_src_dst = df_graph.groupby([\"source\",\"target\"]).size().reset_index()\n",
    "    \n",
    "    unique_nodes = pd.Index(grouped_src_dst['source']\n",
    "                      .append(grouped_src_dst['target'])\n",
    "                      .reset_index(drop=True).unique())\n",
    "\n",
    "    nodes_list = []\n",
    "    for ip in unique_nodes:\n",
    "        nodes_list.append({\"name\":ip})\n",
    "    nodes_list\n",
    "\n",
    "    df1 = pd.DataFrame(nodes_list)\n",
    "\n",
    "\n",
    "    yala = []\n",
    "    i = 0\n",
    "    while i < len(grouped_src_dst):\n",
    "        yala.append({\"group\":1, \"name\":grouped_src_dst.iloc[i]['source']})\n",
    "        yala.append({\"group\":2, \"name\":grouped_src_dst.iloc[i]['target']})\n",
    "        i +=1\n",
    "\n",
    "    df2 = pd.DataFrame(yala)\n",
    "    result = pd.merge(df1, df2, on=[\"name\", \"name\"])\n",
    "    check = df1.merge(df2, how='left', on='name').drop_duplicates()\n",
    "    \n",
    "    nodes_list = []\n",
    "\n",
    "    i = 0 \n",
    "    while i < len(check):\n",
    "        nodes_list.append({\"group\":str(check.iloc[i]['group']), \"name\":str(check.iloc[i]['name'])})\n",
    "        #nodes_list.append({\"name\":str(check.iloc[i]['name'])})\n",
    "        i += 1\n",
    "        \n",
    "    grouped_src_dst.rename(columns={0:'count'}, inplace=True)\n",
    "    temp_links_list = list(grouped_src_dst.apply(lambda row: {\"source\": row['source'], \"target\": row['target'], \"value\": row['count']}, axis=1))\n",
    "\n",
    "    links_list = []\n",
    "    for link in temp_links_list:\n",
    "        record = {\"source\":unique_nodes.get_loc(link['source']),\n",
    "         \"target\": unique_nodes.get_loc(link['target'])}\n",
    "        links_list.append(record)\n",
    "        \n",
    "    return nodes_list, links_list"
   ]
  },
  {
   "cell_type": "markdown",
   "id": "1503049a",
   "metadata": {},
   "source": [
    "## IV- Creating information, answering questions"
   ]
  },
  {
   "cell_type": "markdown",
   "id": "f2eda117",
   "metadata": {},
   "source": [
    "### a. Most direct connections"
   ]
  },
  {
   "cell_type": "markdown",
   "id": "5ff5f5d9",
   "metadata": {},
   "source": [
    "#### 1. As board members (=number of companies in which appear)"
   ]
  },
  {
   "cell_type": "markdown",
   "id": "ff62550f",
   "metadata": {},
   "source": [
    "Top ranking"
   ]
  },
  {
   "cell_type": "code",
   "execution_count": 87,
   "id": "26a778dd",
   "metadata": {},
   "outputs": [],
   "source": [
    "counts = pd.DataFrame(df['Name and Surname'].value_counts())"
   ]
  },
  {
   "cell_type": "markdown",
   "id": "7bfead56",
   "metadata": {},
   "source": [
    "Who are those connections"
   ]
  },
  {
   "cell_type": "code",
   "execution_count": 88,
   "id": "6caab03f",
   "metadata": {},
   "outputs": [
    {
     "name": "stdout",
     "output_type": "stream",
     "text": [
      "Herr-Dudouit Sephora\n"
     ]
    }
   ],
   "source": [
    "y = input()"
   ]
  },
  {
   "cell_type": "code",
   "execution_count": 89,
   "id": "35ed132f",
   "metadata": {},
   "outputs": [
    {
     "data": {
      "text/html": [
       "<div>\n",
       "<style scoped>\n",
       "    .dataframe tbody tr th:only-of-type {\n",
       "        vertical-align: middle;\n",
       "    }\n",
       "\n",
       "    .dataframe tbody tr th {\n",
       "        vertical-align: top;\n",
       "    }\n",
       "\n",
       "    .dataframe thead th {\n",
       "        text-align: right;\n",
       "    }\n",
       "</style>\n",
       "<table border=\"1\" class=\"dataframe\">\n",
       "  <thead>\n",
       "    <tr style=\"text-align: right;\">\n",
       "      <th></th>\n",
       "      <th>Name and Surname</th>\n",
       "      <th>Company</th>\n",
       "      <th>Weight_Person</th>\n",
       "      <th>Weight_Company</th>\n",
       "    </tr>\n",
       "  </thead>\n",
       "  <tbody>\n",
       "    <tr>\n",
       "      <th>1</th>\n",
       "      <td>Herr-Dudouit Sephora</td>\n",
       "      <td>CMP Cercle Menus Plaisirs Sàrl</td>\n",
       "      <td>1</td>\n",
       "      <td>2.0</td>\n",
       "    </tr>\n",
       "  </tbody>\n",
       "</table>\n",
       "</div>"
      ],
      "text/plain": [
       "       Name and Surname                         Company  Weight_Person  \\\n",
       "1  Herr-Dudouit Sephora  CMP Cercle Menus Plaisirs Sàrl              1   \n",
       "\n",
       "   Weight_Company  \n",
       "1             2.0  "
      ]
     },
     "execution_count": 89,
     "metadata": {},
     "output_type": "execute_result"
    }
   ],
   "source": [
    "connections = df[df['Name and Surname'] == y]\n",
    "connections"
   ]
  },
  {
   "cell_type": "markdown",
   "id": "b822ad30",
   "metadata": {},
   "source": [
    "#### 2. As company (=number of board members)"
   ]
  },
  {
   "cell_type": "code",
   "execution_count": 90,
   "id": "510aef3b",
   "metadata": {},
   "outputs": [
    {
     "name": "stdout",
     "output_type": "stream",
     "text": [
      "CMP Cercle Menus Plaisirs Sàrl\n"
     ]
    }
   ],
   "source": [
    "y = input()"
   ]
  },
  {
   "cell_type": "code",
   "execution_count": 79,
   "id": "dcc1ccd9",
   "metadata": {},
   "outputs": [],
   "source": [
    "connections = pd.DataFrame(df['Company'].value_counts())"
   ]
  },
  {
   "cell_type": "code",
   "execution_count": 91,
   "id": "60b40e32",
   "metadata": {},
   "outputs": [
    {
     "data": {
      "text/html": [
       "<div>\n",
       "<style scoped>\n",
       "    .dataframe tbody tr th:only-of-type {\n",
       "        vertical-align: middle;\n",
       "    }\n",
       "\n",
       "    .dataframe tbody tr th {\n",
       "        vertical-align: top;\n",
       "    }\n",
       "\n",
       "    .dataframe thead th {\n",
       "        text-align: right;\n",
       "    }\n",
       "</style>\n",
       "<table border=\"1\" class=\"dataframe\">\n",
       "  <thead>\n",
       "    <tr style=\"text-align: right;\">\n",
       "      <th></th>\n",
       "      <th>Name and Surname</th>\n",
       "      <th>Company</th>\n",
       "      <th>Weight_Person</th>\n",
       "      <th>Weight_Company</th>\n",
       "    </tr>\n",
       "  </thead>\n",
       "  <tbody>\n",
       "  </tbody>\n",
       "</table>\n",
       "</div>"
      ],
      "text/plain": [
       "Empty DataFrame\n",
       "Columns: [Name and Surname, Company, Weight_Person, Weight_Company]\n",
       "Index: []"
      ]
     },
     "execution_count": 91,
     "metadata": {},
     "output_type": "execute_result"
    }
   ],
   "source": [
    "connections = df[df['Name and Surname'] == y]\n",
    "connections"
   ]
  },
  {
   "cell_type": "markdown",
   "id": "32542f3b",
   "metadata": {},
   "source": [
    "### b. Is a connected to b? If yes by how many degrees?"
   ]
  },
  {
   "cell_type": "code",
   "execution_count": 56,
   "id": "e7d4afbb",
   "metadata": {},
   "outputs": [
    {
     "name": "stdout",
     "output_type": "stream",
     "text": [
      "\n"
     ]
    }
   ],
   "source": [
    "x = input()"
   ]
  },
  {
   "cell_type": "code",
   "execution_count": 57,
   "id": "18106b20",
   "metadata": {},
   "outputs": [
    {
     "name": "stdout",
     "output_type": "stream",
     "text": [
      "\n"
     ]
    }
   ],
   "source": [
    "y = input()"
   ]
  },
  {
   "cell_type": "code",
   "execution_count": null,
   "id": "c580356b",
   "metadata": {},
   "outputs": [],
   "source": [
    "def get_full_connectivity_company(df, y):\n",
    "    \n",
    "    ## CASE 2= NOT FOUND ON BOARD BUT IN REGISTER\n",
    "    ## 1. Find board members\n",
    "    more_members = (df[df['Company']==str(y)]['Name and Surname']).tolist()\n",
    "    \n",
    "    \n",
    "    board_members = []\n",
    "    companies = []\n",
    "    condition = False\n",
    "    \n",
    "    while (condition == False):\n",
    "        \n",
    "        more_companies = []\n",
    "        \n",
    "        ## 2. Search if board members belong to more companies\n",
    "        for i in more_members:\n",
    "            find_as_company = (df[df['Name and Surname']==str(i)])['Company'].tolist()\n",
    "            more_companies = more_companies + find_as_company\n",
    "            # remove duplicates\n",
    "            more_companies = list(dict.fromkeys(more_companies))\n",
    "       \n",
    "        more_members = []\n",
    "        \n",
    "        for i in more_companies:\n",
    "            find_as_company = (df[df['Company']==str(i)])['Name and Surname'].tolist()\n",
    "            more_members = more_members + find_as_company\n",
    "            # remove duplicates\n",
    "            more_members = list(dict.fromkeys(more_members))\n",
    "            \n",
    "        \n",
    "        condition1 = (more_companies == companies) \n",
    "        condition2 = (more_members == board_members)\n",
    "        condition = condition1 and condition2\n",
    "        \n",
    "        companies = more_companies\n",
    "        board_members = more_members\n",
    "\n",
    "    board_members = pd.DataFrame(board_members)\n",
    "    companies = pd.DataFrame(companies)\n",
    "    board_members.columns = ['member_name']\n",
    "    companies.columns = ['company_name']\n",
    "\n",
    "    df_graph = pd.merge(df, companies, how='inner',left_on='Company', right_on='company_name')\n",
    "\n",
    "    return df_graph, board_members, companies\n"
   ]
  },
  {
   "cell_type": "code",
   "execution_count": null,
   "id": "2488eddb",
   "metadata": {},
   "outputs": [],
   "source": [
    "def check_if_connected(x,y):\n",
    "    board_members, companies = get_full_connectivity_company(x)\n",
    "    board_members = pd.DataFrame(board_members)\n",
    "    companies = pd.DataFrame(companies)\n",
    "    board_members.columns = ['member_name']\n",
    "    companies.columns = ['company_name']\n",
    "\n",
    "    network_y = pd.merge(df, board_members, how='inner',left_on='Name and Surname', right_on='member_name')\n",
    "\n",
    "    check = network_y[(network_y['Name and Surname'] == str(y))|(network_y['Company'] == str(y))]\n",
    "\n",
    "    if len(check) > 0:\n",
    "        print(\"They are connected!\")\n",
    "        create_graph(network_y)\n",
    "        \n",
    "    else:\n",
    "        print('They are not connected.')"
   ]
  },
  {
   "cell_type": "markdown",
   "id": "e9f24b4a",
   "metadata": {},
   "source": [
    "## IV- Visualising"
   ]
  },
  {
   "cell_type": "markdown",
   "id": "cfb393be",
   "metadata": {},
   "source": [
    "### A- Option 1 - Pyvis"
   ]
  },
  {
   "cell_type": "code",
   "execution_count": null,
   "id": "911d0b41",
   "metadata": {},
   "outputs": [],
   "source": [
    "from pyvis.network import Network\n",
    "\n",
    "def create_graph_person(df_graph):\n",
    "    net = Network()\n",
    "\n",
    "    i = 0\n",
    "    while i < len(df_graph):\n",
    "        net.add_node(str(df_graph.iloc[i]['Name and Surname']), label=str(df_graph.iloc[i]['Name and Surname']))\n",
    "        net.add_node(str(df_graph.iloc[i]['Company']), label=str(df_graph.iloc[i]['Company']))\n",
    "\n",
    "        i += 1\n",
    "\n",
    "    i = 0\n",
    "    while i < len(df_graph):\n",
    "        net.add_edge(str(df_graph.iloc[i]['Name and Surname']), str(df_graph.iloc[i]['Company']))\n",
    "        i +=1\n",
    "\n",
    "    net.show_buttons(filter_=True)\n",
    "    net.show('graph_person.html')\n",
    "\n"
   ]
  },
  {
   "cell_type": "markdown",
   "id": "0e459180",
   "metadata": {},
   "source": [
    "### B- Option 2- D3.js"
   ]
  },
  {
   "cell_type": "markdown",
   "id": "b4fbfe83",
   "metadata": {},
   "source": [
    "SEE VISUAL STUDIO CODE."
   ]
  },
  {
   "cell_type": "code",
   "execution_count": null,
   "id": "6c7a8757",
   "metadata": {},
   "outputs": [],
   "source": []
  }
 ],
 "metadata": {
  "kernelspec": {
   "display_name": "Python 3 (ipykernel)",
   "language": "python",
   "name": "python3"
  },
  "language_info": {
   "codemirror_mode": {
    "name": "ipython",
    "version": 3
   },
   "file_extension": ".py",
   "mimetype": "text/x-python",
   "name": "python",
   "nbconvert_exporter": "python",
   "pygments_lexer": "ipython3",
   "version": "3.9.7"
  }
 },
 "nbformat": 4,
 "nbformat_minor": 5
}
